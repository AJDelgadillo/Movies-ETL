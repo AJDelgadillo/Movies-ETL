{
 "cells": [
  {
   "cell_type": "code",
   "execution_count": 1,
   "id": "94f24935",
   "metadata": {},
   "outputs": [],
   "source": [
    "def make_quesadilla(protein, topping):\n",
    "    quesadilla = f'here is a {protein} quesadilla with {topping}'\n",
    "    print(quesadilla)"
   ]
  },
  {
   "cell_type": "code",
   "execution_count": 2,
   "id": "310f7cf9",
   "metadata": {},
   "outputs": [
    {
     "name": "stdout",
     "output_type": "stream",
     "text": [
      "here is a beef quesadilla with salsa\n"
     ]
    }
   ],
   "source": [
    "make_quesadilla('beef', 'salsa')"
   ]
  },
  {
   "cell_type": "code",
   "execution_count": 3,
   "id": "49fac2c9",
   "metadata": {},
   "outputs": [],
   "source": [
    "def square(number):\n",
    "    return number * number"
   ]
  },
  {
   "cell_type": "code",
   "execution_count": 4,
   "id": "fae6e0d1",
   "metadata": {},
   "outputs": [
    {
     "data": {
      "text/plain": [
       "4"
      ]
     },
     "execution_count": 4,
     "metadata": {},
     "output_type": "execute_result"
    }
   ],
   "source": [
    "square(2)"
   ]
  },
  {
   "cell_type": "code",
   "execution_count": 5,
   "id": "898357fe",
   "metadata": {},
   "outputs": [
    {
     "data": {
      "text/plain": [
       "3355919426368804"
      ]
     },
     "execution_count": 5,
     "metadata": {},
     "output_type": "execute_result"
    }
   ],
   "source": [
    "square(57930298)"
   ]
  },
  {
   "cell_type": "code",
   "execution_count": null,
   "id": "4f2e67d6",
   "metadata": {},
   "outputs": [],
   "source": []
  }
 ],
 "metadata": {
  "kernelspec": {
   "display_name": "Python 3 (ipykernel)",
   "language": "python",
   "name": "python3"
  },
  "language_info": {
   "codemirror_mode": {
    "name": "ipython",
    "version": 3
   },
   "file_extension": ".py",
   "mimetype": "text/x-python",
   "name": "python",
   "nbconvert_exporter": "python",
   "pygments_lexer": "ipython3",
   "version": "3.10.5"
  }
 },
 "nbformat": 4,
 "nbformat_minor": 5
}
